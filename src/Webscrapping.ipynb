{
 "cells": [
  {
   "cell_type": "code",
   "execution_count": null,
   "metadata": {},
   "outputs": [],
   "source": [
    "# Import packages\n",
    "# To ignore unimporant system warnings\n",
    "import warnings\n",
    "warnings.filterwarnings(\"ignore\")\n",
    "\n",
    "# We will use Pandas, Numpy, and Matplotlib which is a package for visualization with Python\n",
    "import pandas as pd\n",
    "import numpy as np\n",
    "\n",
    "# This is a library for accessing and parsing data through URLs\n",
    "from urllib.parse import urlencode\n",
    "import urllib.request, json \n",
    "from bs4 import BeautifulSoup # for web scraping\n",
    "import fiona\n",
    "import plotly.express as px\n",
    "import geopandas as gpd\n",
    "import adjustText as aT\n",
    "import seaborn as sns # visualization styling package\n",
    "import plotly.graph_objects as go\n",
    "import urllib, json\n",
    "import os\n",
    "import plotly\n",
    "from sodapy import Socrata\n",
    "from IPython.display import Image, display\n",
    "from shapely.geometry import Polygon\n",
    "import time\n",
    "from shapely.geometry import shape\n",
    "import contextily as ctx\n",
    "#from google.colab import files\n",
    "from sklearn.preprocessing import MinMaxScaler\n",
    "\n",
    "%matplotlib inline \n",
    "import networkx as nx #library supporting networks\n",
    "import matplotlib.pyplot as plt\n",
    "import seaborn as sns # visualization styling package\n",
    "import folium\n",
    "from folium.plugins import HeatMap\n",
    "\n",
    "\n",
    "from dotenv import load_dotenv\n",
    "import os\n",
    "load_dotenv()\n",
    "MAPS_API_KEY = os.getenv('MAPS_API_KEY')"
   ]
  },
  {
   "cell_type": "code",
   "execution_count": null,
   "metadata": {
    "id": "8taUfZUiSuBU"
   },
   "outputs": [],
   "source": [
    "# import more packages\n",
    "import plotly.io as pio\n",
    "pio.renderers.default = \"colab\"\n",
    "access_token = 'pk.eyJ1IjoiYmtpcnRoaSIsImEiOiJja3VpdzFiMnoycnYyMzBtYXM1aW1uemd0In0.knHw7eYrN8DvrrBHZugW8Q'\n",
    "px.set_mapbox_access_token(access_token) # for interactive plotly viz\n",
    "\n",
    "import plotly.graph_objects as go\n",
    "import chart_studio.plotly as py\n",
    "import chart_studio.tools as tls"
   ]
  },
  {
   "cell_type": "code",
   "execution_count": null,
   "metadata": {
    "id": "Ex-YtHQeJJWH"
   },
   "outputs": [],
   "source": [
    "from shapely.geometry import Polygon, LineString, MultiLineString, Point, GeometryCollection\n",
    "from pyproj import Geod\n",
    "from shapely import wkt"
   ]
  },
  {
   "cell_type": "markdown",
   "metadata": {
    "id": "0Ho_3lTrjbuf"
   },
   "source": [
    "#Load Data"
   ]
  },
  {
   "cell_type": "code",
   "execution_count": null,
   "metadata": {},
   "outputs": [],
   "source": [
    "from urllib.parse import urlencode\n",
    "import urllib.request, json \n",
    "import requests"
   ]
  },
  {
   "cell_type": "code",
   "execution_count": null,
   "metadata": {},
   "outputs": [],
   "source": [
    "%cd ..\n",
    "path = 'inputs/Data Axle Historic Businesses/tkabaix9xdeir06x.csv'\n",
    "hdf = pd.read_csv(path, encoding = 'unicode_escape')"
   ]
  },
  {
   "cell_type": "code",
   "execution_count": null,
   "metadata": {
    "scrolled": true
   },
   "outputs": [],
   "source": [
    "bdf = hdf[['abi','archive_version_year','company','zipcode', 'primary_naics_code',\n",
    "       'naics8_descriptions','year_established', 'latitude', 'longitude']]\n",
    "bdf['primary_naics_code'].fillna(0,inplace=True)\n",
    "bdf['primary_naics_code'] = bdf['primary_naics_code'].astype(int).astype(str)\n",
    "bdf['naics'] = bdf['primary_naics_code'].str[:2]\n",
    "bdf['naics'] = bdf['naics'].astype(int)\n",
    "bdf = bdf[((bdf['naics'] >= 42) & (bdf['naics'] <= 54)) | ((bdf['naics'] == 72) | (bdf['naics'] == 71))]\n",
    "\n",
    "bdf.archive_version_year = pd.to_datetime(bdf.archive_version_year, format='%Y')\n",
    "bdf.archive_version_year = pd.DatetimeIndex ( bdf.archive_version_year ).astype ( np.int64 )/1000000\n",
    "bdf.archive_version_year = bdf.archive_version_year.astype(int)\n",
    "\n",
    "bdf['instance'] = bdf.groupby('abi').cumcount()+1\n",
    "bdf.to_csv('outputs/Detroit_Biz.csv')\n",
    "\n"
   ]
  },
  {
   "cell_type": "code",
   "execution_count": null,
   "metadata": {},
   "outputs": [],
   "source": [
    "path = 'inputs/ZCTA Boundaries/tl_2021_us_zcta520/tl_2021_us_zcta520.shp'\n",
    "zcta = gpd.read_file(path)\n",
    "zcta = zcta[['ZCTA5CE20','geometry']]\n",
    "zcta['ZCTA5CE20'] = zcta['ZCTA5CE20'].astype(int)"
   ]
  },
  {
   "cell_type": "code",
   "execution_count": null,
   "metadata": {
    "id": "m-cL9sRO1mNn"
   },
   "outputs": [],
   "source": [
    "path = 'inputs/area_of_interest_zctas.csv'\n",
    "dt = pd.read_csv(path)\n",
    "dt.rename(columns={'ZCTA':'ZCTA5CE20', '\"City\" Name':'City Name'},inplace=True)\n",
    "\n",
    "dt = dt.merge(zcta,on='ZCTA5CE20')\n",
    "df = gpd.GeoDataFrame(dt, geometry='geometry')"
   ]
  },
  {
   "cell_type": "code",
   "execution_count": null,
   "metadata": {
    "id": "J_qsrrhjI9WU"
   },
   "outputs": [],
   "source": [
    "# import urllib library\n",
    "from urllib.request import urlopen\n",
    "import json"
   ]
  },
  {
   "cell_type": "code",
   "execution_count": null,
   "metadata": {
    "id": "bI4EMOWHHNKH"
   },
   "outputs": [],
   "source": [
    "def get_meta(lat, lon, api_key):\n",
    "    url = \"https://maps.googleapis.com/maps/api/streetview/metadata?location={0:},%20{1:}&key={2:}\"\n",
    "    response = json.loads(urlopen(url.format(lat, lon)).read())\n",
    "    if response['status'] == 'OK':\n",
    "        url = 'https://www.google.com/maps/@{0:},{1:}/data=!3m7!1e1!3m5!1s{2:}!2e0!5s20201001T000000!7i16384!8i8192'\n",
    "        stview = url.format(lat, lon, response['pano_id'])\n",
    "        return response['status'], response, stview\n",
    "    else:\n",
    "        return response['status']"
   ]
  },
  {
   "cell_type": "code",
   "execution_count": null,
   "metadata": {
    "id": "IpCFRdjuJzwE"
   },
   "outputs": [],
   "source": [
    "la = 41.762082\n",
    "lo = -83.481032"
   ]
  },
  {
   "cell_type": "code",
   "execution_count": null,
   "metadata": {},
   "outputs": [],
   "source": [
    "get_meta(la, lo, MAPS_API_KEY)   "
   ]
  },
  {
   "cell_type": "code",
   "execution_count": null,
   "metadata": {},
   "outputs": [],
   "source": [
    "%run points.py"
   ]
  },
  {
   "cell_type": "code",
   "execution_count": null,
   "metadata": {},
   "outputs": [],
   "source": [
    "la=42.5773904342342\n",
    "lo=-83.1436338234234234\n",
    "panoids(la,lo, MAPS_API_KEY)"
   ]
  },
  {
   "cell_type": "code",
   "execution_count": null,
   "metadata": {},
   "outputs": [],
   "source": [
    "df = pd.DataFrame(panoids(la, lo, MAPS_API_KEY)).fillna(0)\n",
    "df['lat_og'] = df['lat']\n",
    "df['lon_og'] = df['lon']\n",
    "df.loc[df['year'] != 0, 'lat_og'] = la\n",
    "df.loc[df['year'] != 0, 'lon_og'] = lo"
   ]
  },
  {
   "cell_type": "code",
   "execution_count": null,
   "metadata": {},
   "outputs": [],
   "source": [
    "#ndf1.to_csv('../outputs/Panoids/AllPoints.csv')"
   ]
  },
  {
   "cell_type": "code",
   "execution_count": null,
   "metadata": {},
   "outputs": [],
   "source": [
    "ndf1 = pd.read_csv('../outputs/Panoids/AllPoints_NYC.csv')"
   ]
  },
  {
   "cell_type": "code",
   "execution_count": null,
   "metadata": {},
   "outputs": [],
   "source": [
    "pdf = pd.DataFrame(columns=['panoid','lat','lon','year','month','lat_og','lon_og'])"
   ]
  },
  {
   "cell_type": "markdown",
   "metadata": {},
   "source": [
    "Errors (None error) in lines 439, 566, 567, 573, 1225, 1819, 1822, 2511, 2796, 2927, 3387, 3358, 4222, 4628, 2631, 4632, 5692, ..."
   ]
  },
  {
   "cell_type": "code",
   "execution_count": null,
   "metadata": {},
   "outputs": [],
   "source": [
    "KJPobXgZwSTXCtpDHgaI_Q\n",
    "PIXnMHJ6Syg90cCxmjceaQ"
   ]
  },
  {
   "cell_type": "code",
   "execution_count": null,
   "metadata": {},
   "outputs": [],
   "source": [
    "directory = './'\n",
    "final_directory = './'\n",
    "panoid = '9x8DXcEork_1arzq-5OkrA'\n",
    "tiles = tiles_info(panoid)\n",
    "download_tiles(tiles_info(panoid), directory)\n",
    "stich_tiles(panoid, directory, final_directory)"
   ]
  },
  {
   "cell_type": "code",
   "execution_count": null,
   "metadata": {
    "scrolled": true
   },
   "outputs": [],
   "source": [
    "for i in range(103869,len(ndf1)):\n",
    "    lo = ndf1.x[i]\n",
    "    la = ndf1.y[i]\n",
    "    if panoids(la,lo, MAPS_API_KEY) is not None:\n",
    "        try:\n",
    "            df = pd.DataFrame(panoids(la, lo, MAPS_API_KEY)).fillna(0)\n",
    "            df['lat_og'] = df['lat']\n",
    "            df['lon_og'] = df['lon']\n",
    "            df.loc[df['year'] != 0, 'lat_og'] = la\n",
    "            df.loc[df['year'] != 0, 'lon_og'] = lo\n",
    "            pdf = pd.concat([pdf,df]).drop_duplicates().reset_index(drop=True)\n",
    "        except (KeyError):\n",
    "            print(i)\n",
    "            continue"
   ]
  },
  {
   "cell_type": "code",
   "execution_count": null,
   "metadata": {},
   "outputs": [],
   "source": [
    "pdf"
   ]
  },
  {
   "cell_type": "code",
   "execution_count": null,
   "metadata": {},
   "outputs": [],
   "source": [
    "pdf.to_csv('../outputs/Panoids/AllPoints_NYC_1M.csv')"
   ]
  },
  {
   "cell_type": "code",
   "execution_count": null,
   "metadata": {},
   "outputs": [],
   "source": [
    "panoids(la, lo, MAPS_API_KEY)"
   ]
  },
  {
   "cell_type": "code",
   "execution_count": null,
   "metadata": {},
   "outputs": [],
   "source": [
    "lo = ndf1.x[439]\n",
    "la = ndf1.y[439]\n",
    "df = pd.DataFrame(panoids(la, lo, MAPS_API_KEY)).fillna(0)"
   ]
  },
  {
   "cell_type": "code",
   "execution_count": null,
   "metadata": {},
   "outputs": [],
   "source": [
    "df"
   ]
  },
  {
   "cell_type": "code",
   "execution_count": null,
   "metadata": {},
   "outputs": [],
   "source": [
    "pdf[(pdf.year != 0)][['lat_og','lon_og']].value_counts()"
   ]
  },
  {
   "cell_type": "code",
   "execution_count": null,
   "metadata": {},
   "outputs": [],
   "source": [
    "#pdf.to_csv('../outputs/Panoids/0-120k.csv')"
   ]
  },
  {
   "cell_type": "code",
   "execution_count": null,
   "metadata": {},
   "outputs": [],
   "source": [
    "#168\n",
    "#H Mart"
   ]
  },
  {
   "cell_type": "code",
   "execution_count": null,
   "metadata": {
    "scrolled": true
   },
   "outputs": [],
   "source": [
    "panoid = df.panoid[6]"
   ]
  },
  {
   "cell_type": "code",
   "execution_count": null,
   "metadata": {},
   "outputs": [],
   "source": [
    "directory = '/Volumes/GoogleDrive/My Drive/Columbia/3 Fall 22/RA/Detroit/Outputs'\n",
    "final_directory = '/Volumes/GoogleDrive/My Drive/Columbia/3 Fall 22/RA/Detroit/Outputs'"
   ]
  },
  {
   "cell_type": "code",
   "execution_count": null,
   "metadata": {},
   "outputs": [],
   "source": [
    "stich_tiles(panoid, directory, final_directory)"
   ]
  },
  {
   "cell_type": "code",
   "execution_count": null,
   "metadata": {},
   "outputs": [],
   "source": [
    "directory = '/Users/kirthi/Library/CloudStorage/GoogleDrive-kb3185@columbia.edu/My Drive/Columbia/3 Fall 22/RA/Detroit/outputs/Panos'\n",
    "final_directory = '/Users/kirthi/Library/CloudStorage/GoogleDrive-kb3185@columbia.edu/My Drive/Columbia/3 Fall 22/RA/Detroit/outputs/Panos'"
   ]
  },
  {
   "cell_type": "code",
   "execution_count": null,
   "metadata": {},
   "outputs": [],
   "source": [
    "panoid = df.panoid[6]"
   ]
  },
  {
   "cell_type": "code",
   "execution_count": null,
   "metadata": {},
   "outputs": [],
   "source": [
    "len(df)"
   ]
  },
  {
   "cell_type": "code",
   "execution_count": null,
   "metadata": {},
   "outputs": [],
   "source": [
    "tiles = tiles_info(panoid)\n"
   ]
  },
  {
   "cell_type": "code",
   "execution_count": null,
   "metadata": {},
   "outputs": [],
   "source": [
    "download_tiles(tiles_info(panoid), directory)\n",
    "#stich_tiles(panoid, directory, final_directory)"
   ]
  },
  {
   "cell_type": "code",
   "execution_count": null,
   "metadata": {},
   "outputs": [],
   "source": [
    "stich_tiles(panoid, directory, final_directory)"
   ]
  },
  {
   "cell_type": "code",
   "execution_count": null,
   "metadata": {},
   "outputs": [],
   "source": [
    "import re"
   ]
  },
  {
   "cell_type": "code",
   "execution_count": null,
   "metadata": {
    "scrolled": true
   },
   "outputs": [],
   "source": [
    "#%run login.py"
   ]
  },
  {
   "cell_type": "code",
   "execution_count": null,
   "metadata": {
    "executionInfo": {
     "elapsed": 2,
     "status": "ok",
     "timestamp": 1669148796614,
     "user": {
      "displayName": "Kirthi Balakrishnan",
      "userId": "06539501306525753506"
     },
     "user_tz": 300
    },
    "id": "Z7iL7Xqnup1B"
   },
   "outputs": [],
   "source": [
    "URL = 'https://www.google.com/maps/@42.5472777,-83.1843046,3a,15y,196.83h,89.6t/data=!3m7!1e1!3m5!1sE71c0CE94Yv-635ySrLcbQ!2e0!5s20201001T000000!7i16384!8i8192'"
   ]
  },
  {
   "cell_type": "code",
   "execution_count": null,
   "metadata": {},
   "outputs": [],
   "source": [
    "b = driver.driver"
   ]
  },
  {
   "cell_type": "code",
   "execution_count": null,
   "metadata": {},
   "outputs": [],
   "source": [
    "b.get(URL)"
   ]
  },
  {
   "cell_type": "code",
   "execution_count": null,
   "metadata": {},
   "outputs": [],
   "source": [
    "ele = b.find_elements(By.CLASS_NAME, \"aLPB6c.kaqDpe\")"
   ]
  },
  {
   "cell_type": "code",
   "execution_count": null,
   "metadata": {},
   "outputs": [],
   "source": [
    "len(ele)"
   ]
  },
  {
   "cell_type": "code",
   "execution_count": null,
   "metadata": {},
   "outputs": [],
   "source": [
    "pxdf = pd.DataFrame(columns=['panoid','lat','lon','year','month'])\n",
    "zdf = pd.DataFrame(columns=['panoid','lat','lon'])\n",
    "            \n",
    "for i in range(130):\n",
    "    x = i*10000\n",
    "    print(x)\n",
    "    path = 'outputs/Panoids/AllPanoids - ' +str(x)+ '.csv'\n",
    "    df = pd.read_csv(path, error_bad_lines=False)\n",
    "    temp_pdf = df[df['year'] != 0][['panoid','lat','lon','year','month']].reset_index(drop=True)\n",
    "    pxdf = pd.concat([pxdf,temp_pdf]).drop_duplicates().reset_index(drop=True)\n",
    "    temp_zdf = df[df['year'] == 0][['panoid','lat','lon']].reset_index(drop=True)\n",
    "    zdf = pd.concat([zdf,temp_zdf]).drop_duplicates().reset_index(drop=True)\n",
    "\n",
    "pxdf.to_csv('../outputs/Panoids/Valid - All.csv')\n",
    "zdf.to_csv('../outputs/Panoids/Zero - All.csv')"
   ]
  },
  {
   "cell_type": "code",
   "execution_count": null,
   "metadata": {},
   "outputs": [],
   "source": [
    "zdf"
   ]
  },
  {
   "cell_type": "code",
   "execution_count": null,
   "metadata": {},
   "outputs": [],
   "source": [
    "pdf.to_csv('../outputs/Panoids/Valid.csv')\n",
    "zdf.to_csv('../outputs/Panoids/Zero.csv')"
   ]
  },
  {
   "cell_type": "code",
   "execution_count": null,
   "metadata": {},
   "outputs": [],
   "source": [
    "s = ele[1].get_attribute('outerHTML')"
   ]
  },
  {
   "cell_type": "code",
   "execution_count": null,
   "metadata": {
    "scrolled": true
   },
   "outputs": [],
   "source": [
    "s"
   ]
  },
  {
   "cell_type": "code",
   "execution_count": null,
   "metadata": {
    "colab": {
     "base_uri": "https://localhost:8080/",
     "height": 1000
    },
    "executionInfo": {
     "elapsed": 53277,
     "status": "error",
     "timestamp": 1669148788488,
     "user": {
      "displayName": "Kirthi Balakrishnan",
      "userId": "06539501306525753506"
     },
     "user_tz": 300
    },
    "id": "jb3iGhJX3xmh",
    "outputId": "294b4ec1-3426-4c13-8a74-d50534b6b530",
    "scrolled": false
   },
   "outputs": [],
   "source": [
    "from selenium import webdriver\n",
    "import undetected_chromedriver as uc\n",
    "from time import sleep\n",
    "\n",
    "driver_path = '/usr/local/bin/chromedriver.exe'\n",
    "\n",
    "chromeOptions = uc.ChromeOptions() \n",
    "#chromeOptions = webdriver.ChromeOptions() \n",
    "chromeOptions.binary_location = '/Applications/Google Chrome Canary.app/Contents/MacOS/Google Chrome Canary'\n",
    "#chromeOptions.executable_path = driver_path\n",
    "#chromeOptions.add_experimental_option(\"prefs\", {\"profile.managed_default_content_settings.images\": 1}) \n",
    "chromeOptions.add_argument(\"user-data-dir=/Users/kirthi/Library/Application Support/Google/Chrome Canary\")\n",
    "chromeOptions.add_argument(\"--no-sandbox\") \n",
    "chromeOptions.add_argument(\"--disable-setuid-sandbox\") \n",
    "\n",
    "chromeOptions.add_argument('--ignore-ssl-errors=yes')\n",
    "chromeOptions.add_argument('--ignore-certificate-errors')\n",
    "chromeOptions.add_experimental_option(\"useAutomationExtension\", False)\n",
    "chromeOptions.add_experimental_option(\"excludeSwitches\",[\"enable-automation\"])\n",
    "\n",
    "\n",
    "#chromeOptions.add_argument(\"--remote-debugging-port=9515\")  # this\n",
    "\n",
    "#chromeOptions.add_argument(\"--disable-dev-shm-using\") \n",
    "chromeOptions.add_argument(\"--disable-extensions\") \n",
    "chromeOptions.add_argument(\"--disable-gpu\") \n",
    "chromeOptions.add_argument(\"disable-infobars\")"
   ]
  },
  {
   "cell_type": "code",
   "execution_count": null,
   "metadata": {},
   "outputs": [],
   "source": [
    "import re"
   ]
  },
  {
   "cell_type": "code",
   "execution_count": null,
   "metadata": {},
   "outputs": [],
   "source": [
    "[re.search(r\"panoid=(.*?)\\&\", s).group(1), re.search(r\"aria-label=\\\"(.*?)\\\"\", s).group(1)]"
   ]
  },
  {
   "cell_type": "code",
   "execution_count": null,
   "metadata": {},
   "outputs": [],
   "source": [
    "re.search(r\"panoid=(.*?)\\&\", s).group(1),"
   ]
  },
  {
   "cell_type": "code",
   "execution_count": null,
   "metadata": {},
   "outputs": [],
   "source": [
    "re.search(r\"aria-label=\\\"(.*?)\\\"\", s).group(1)"
   ]
  },
  {
   "cell_type": "code",
   "execution_count": null,
   "metadata": {
    "id": "ZFnxWrIPw9Kz"
   },
   "outputs": [],
   "source": [
    "b.quit()"
   ]
  },
  {
   "cell_type": "code",
   "execution_count": null,
   "metadata": {},
   "outputs": [],
   "source": [
    "print('yuih')"
   ]
  },
  {
   "cell_type": "code",
   "execution_count": null,
   "metadata": {},
   "outputs": [],
   "source": [
    "path = 'outputs/Panoids/Valid - All.csv'\n",
    "dt = pd.read_csv(path)\n",
    "dt.head()"
   ]
  },
  {
   "cell_type": "code",
   "execution_count": null,
   "metadata": {},
   "outputs": [],
   "source": [
    "dt['lat'] = pd.to_numeric(dt['lat'], errors='coerce')"
   ]
  },
  {
   "cell_type": "code",
   "execution_count": null,
   "metadata": {},
   "outputs": [],
   "source": [
    "dt['lon'] = pd.to_numeric(dt['lon'], errors='coerce')"
   ]
  },
  {
   "cell_type": "code",
   "execution_count": null,
   "metadata": {},
   "outputs": [],
   "source": [
    "def filter_coordinates(df, min_lat, max_lat, min_long, max_long):\n",
    "    return df[(df['lat'] >= min_lat) & (df['lat'] <= max_lat) & \n",
    "              (df['lon'] >= min_long) & (df['lon'] <= max_long)]"
   ]
  },
  {
   "cell_type": "code",
   "execution_count": null,
   "metadata": {},
   "outputs": [],
   "source": [
    "bbox_df = filter_coordinates(dt, 42.560583, 42.567492, -83.093336, 83.081950)"
   ]
  },
  {
   "cell_type": "code",
   "execution_count": null,
   "metadata": {},
   "outputs": [],
   "source": [
    "dt.shape"
   ]
  },
  {
   "cell_type": "code",
   "execution_count": null,
   "metadata": {},
   "outputs": [],
   "source": [
    "bbox_df"
   ]
  },
  {
   "cell_type": "code",
   "execution_count": null,
   "metadata": {},
   "outputs": [],
   "source": [
    "bbox_df = bbox_df.drop(columns={'Unnamed: 0'}).reset_index(drop=True)"
   ]
  },
  {
   "cell_type": "code",
   "execution_count": null,
   "metadata": {},
   "outputs": [],
   "source": [
    "url = 'https://streetviewpixels-pa.googleapis.com/v1/tile?cb_client=maps_sv.tactile&panoid={}&x=0&y=0&zoom=0&nbt=1&fover=2'"
   ]
  },
  {
   "cell_type": "code",
   "execution_count": null,
   "metadata": {},
   "outputs": [],
   "source": [
    "bbox_df1 = bbox_df.iloc[4840:]"
   ]
  },
  {
   "cell_type": "code",
   "execution_count": null,
   "metadata": {},
   "outputs": [],
   "source": [
    "image_folder = 'outputs/Sample'\n",
    "for i, row in bbox_df1.iterrows():\n",
    "    image_url = url.format(row['panoid'])\n",
    "    response = requests.get(image_url)\n",
    "    image_name = f\"{row['panoid']}.jpeg\"  # Change the extension as per the image type\n",
    "    image_path = os.path.join(image_folder, image_name)\n",
    "    with open(image_path, 'wb') as f:\n",
    "        f.write(response.content)"
   ]
  },
  {
   "cell_type": "code",
   "execution_count": null,
   "metadata": {},
   "outputs": [],
   "source": [
    "import pandas as pd\n",
    "import os\n",
    "import re\n",
    "\n",
    "folder_path = 'outputs/Cleaned Sample/'\n",
    "files = os.listdir(folder_path)\n",
    "\n",
    "# Remove \".jpeg\" extension from each element\n",
    "ids_from_files = [filename[:-5] for filename in files]\n",
    "\n",
    "subset_df = bbox_df[bbox_df[\"panoid\"].isin(ids_from_files)]\n",
    "\n",
    "print(subset_df)\n"
   ]
  },
  {
   "cell_type": "code",
   "execution_count": null,
   "metadata": {},
   "outputs": [],
   "source": [
    "directory = 'outputs/Cleaned Sample/Panos'\n",
    "final_directory = 'outputs/Cleaned Sample/Panos'"
   ]
  },
  {
   "cell_type": "code",
   "execution_count": null,
   "metadata": {},
   "outputs": [],
   "source": [
    "for item in ids_from_files:\n",
    "    print (item)\n",
    "    stich_tiles(item, directory, final_directory)"
   ]
  },
  {
   "cell_type": "code",
   "execution_count": null,
   "metadata": {},
   "outputs": [],
   "source": [
    "def crop_images(input_folder, output_folder):\n",
    "    # Create the output folder if it doesn't exist\n",
    "    if not os.path.exists(output_folder):\n",
    "        os.makedirs(output_folder)\n",
    "\n",
    "    # Get a list of all files in the input folder\n",
    "    files = os.listdir(input_folder)\n",
    "\n",
    "    for file in files:\n",
    "        # Construct the full path of the input file\n",
    "        input_path = os.path.join(input_folder, file)\n",
    "\n",
    "        # Open the image using Pillow\n",
    "        image = Image.open(input_path)\n",
    "\n",
    "        # Get the width and height of the image\n",
    "        width, height = image.size\n",
    "\n",
    "        # Calculate the new height for cropping\n",
    "        new_height = height // 2\n",
    "\n",
    "        # Calculate the top and bottom positions for cropping\n",
    "        top = (height - new_height) // 2\n",
    "        bottom = top + new_height\n",
    "\n",
    "        # Crop the image\n",
    "        cropped_image = image.crop((0, top, width, bottom))\n",
    "\n",
    "        # Construct the full path of the output file\n",
    "        output_path = os.path.join(output_folder, file)\n",
    "\n",
    "        # Save the cropped image\n",
    "        cropped_image.save(output_path)\n",
    "\n",
    "        print(f\"Cropped and saved {file}\")\n",
    "\n",
    "# Specify the input and output folders\n",
    "input_folder = 'outputs/Cleaned Sample/Panos'\n",
    "output_folder = 'outputs/Cleaned Sample/Cropped Panos'\n",
    "\n",
    "# Call the function to crop and save the images\n",
    "crop_images(input_folder, output_folder)"
   ]
  },
  {
   "cell_type": "code",
   "execution_count": null,
   "metadata": {},
   "outputs": [],
   "source": []
  }
 ],
 "metadata": {
  "colab": {
   "provenance": []
  },
  "kernelspec": {
   "display_name": "Python 3 (ipykernel)",
   "language": "python",
   "name": "python3"
  },
  "language_info": {
   "codemirror_mode": {
    "name": "ipython",
    "version": 3
   },
   "file_extension": ".py",
   "mimetype": "text/x-python",
   "name": "python",
   "nbconvert_exporter": "python",
   "pygments_lexer": "ipython3",
   "version": "3.11.5"
  }
 },
 "nbformat": 4,
 "nbformat_minor": 1
}
